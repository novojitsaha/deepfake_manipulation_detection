{
 "cells": [
  {
   "cell_type": "markdown",
   "metadata": {},
   "source": [
    "#### Imports"
   ]
  },
  {
   "cell_type": "code",
   "execution_count": 1,
   "metadata": {},
   "outputs": [],
   "source": [
    "import cv2\n",
    "import os\n",
    "import numpy as np\n",
    "import mediapipe as mp\n",
    "from mediapipe.tasks import python\n",
    "from mediapipe.tasks.python import vision\n",
    "from tensorflow.keras.preprocessing.sequence import pad_sequences\n",
    "from sklearn.model_selection import train_test_split"
   ]
  },
  {
   "cell_type": "markdown",
   "metadata": {},
   "source": [
    "#### Face Detection Options"
   ]
  },
  {
   "cell_type": "code",
   "execution_count": 2,
   "metadata": {},
   "outputs": [],
   "source": [
    "BaseOptions = mp.tasks.BaseOptions\n",
    "FaceDetector = mp.tasks.vision.FaceDetector\n",
    "FaceDetectorOptions = mp.tasks.vision.FaceDetectorOptions\n",
    "VisionRunningMode = mp.tasks.vision.RunningMode\n",
    "\n",
    "# Create a face detector instance with the video mode:\n",
    "detector_options = FaceDetectorOptions(\n",
    "    base_options=BaseOptions(model_asset_path='./models/detector.tflite'),\n",
    "    running_mode=VisionRunningMode.VIDEO)"
   ]
  },
  {
   "cell_type": "code",
   "execution_count": 30,
   "metadata": {},
   "outputs": [],
   "source": [
    "def edge_detection(vid_path, fps, t_lower, t_upper):\n",
    "    video = cv2.VideoCapture(vid_path)\n",
    "    original_fps = video.get(cv2.CAP_PROP_FPS)\n",
    "\n",
    "    if fps > original_fps:\n",
    "        interval = 1\n",
    "    else:\n",
    "        interval = int(original_fps / fps)\n",
    "\n",
    "\n",
    "    frame_count = 0\n",
    "\n",
    "    edge_diffs = []\n",
    "    timestamps = []\n",
    "\n",
    "    previous_frame = None\n",
    "\n",
    "    with FaceDetector.create_from_options(detector_options) as detector:\n",
    "\n",
    "        while video.isOpened():\n",
    "            ret, frame = video.read()\n",
    "\n",
    "            if not ret:\n",
    "                break\n",
    "\n",
    "            if frame_count % interval == 0:\n",
    "                # timestamp\n",
    "                frame_timestamp = int(video.get(cv2.CAP_PROP_POS_MSEC))\n",
    "                #frame\n",
    "                frame_rgb = cv2.cvtColor(frame, cv2.COLOR_BGR2RGB)\n",
    "                mp_frame = mp.Image(image_format=mp.ImageFormat.SRGB, data=frame_rgb)\n",
    "                # detect\n",
    "                detect = detector.detect_for_video(mp_frame, frame_timestamp)\n",
    "\n",
    "                if detect.detections:\n",
    "\n",
    "                    for detection in detect.detections:\n",
    "                        bbox = detection.bounding_box\n",
    "                        start_x = int(bbox.origin_x)\n",
    "                        start_y = int(bbox.origin_y)\n",
    "                        end_x = int(bbox.origin_x + ((bbox.width*0.1) + bbox.width))\n",
    "                        end_y = int(bbox.origin_y + ((bbox.height*0.1)+bbox.height))\n",
    "                        \n",
    "                        # Crop the face region\n",
    "                        current_frame = frame[start_y:end_y, start_x:end_x]\n",
    "\n",
    "                        if previous_frame is not None:\n",
    "                            current_frame_resized = cv2.resize(current_frame, (previous_frame.shape[1], previous_frame.shape[0]))\n",
    "                            # Compare edges across consecutive frames\n",
    "                            edges_prev = cv2.Canny(previous_frame, t_lower, t_upper)\n",
    "                            edges_curr = cv2.Canny(current_frame_resized, t_lower, t_upper)\n",
    "                            diff = cv2.absdiff(edges_prev, edges_curr)\n",
    "\n",
    "                            # # Flatten the frame and normalize\n",
    "                            diff_flat = diff.flatten() / 255.0\n",
    "\n",
    "                            # Store the flattened edge difference and timestamp\n",
    "                            edge_diffs.append(diff_flat)\n",
    "                            \n",
    "                            timestamps.append(frame_timestamp)\n",
    "\n",
    "                            # cv2.imshow('Edge Difference', diff)\n",
    "\n",
    "                        previous_frame = current_frame\n",
    "\n",
    "\n",
    "                if len(edge_diffs) > 14: # get the first 15 frames only\n",
    "                    break\n",
    "            # Add a delay and exit mechanism\n",
    "            if cv2.waitKey(1) & 0xFF == ord('q'):\n",
    "                break\n",
    "\n",
    "            frame_count += 1\n",
    "\n",
    "        video.release()\n",
    "\n",
    "        cv2.destroyAllWindows()\n",
    "\n",
    "\n",
    "    if edge_diffs:\n",
    "        max_length = max(len(diff) for diff in edge_diffs)\n",
    "        edge_diffs = [np.pad(diff, (0, max_length - len(diff)), 'constant') for diff in edge_diffs]\n",
    "    timestamps = np.array(timestamps)\n",
    "    timestamps = timestamps.reshape(-1,1)   \n",
    "    combined = np.hstack((edge_diffs, timestamps))\n",
    "        \n",
    "    return combined\n",
    "\n",
    "\n"
   ]
  },
  {
   "cell_type": "code",
   "execution_count": 17,
   "metadata": {},
   "outputs": [
    {
     "name": "stderr",
     "output_type": "stream",
     "text": [
      "c:\\dev\\thesis2\\deepfake_manipulation_detection\\venv\\Lib\\site-packages\\google\\protobuf\\symbol_database.py:55: UserWarning: SymbolDatabase.GetPrototype() is deprecated. Please use message_factory.GetMessageClass() instead. SymbolDatabase.GetPrototype() will be removed soon.\n",
      "  warnings.warn('SymbolDatabase.GetPrototype() is deprecated. Please '\n"
     ]
    }
   ],
   "source": [
    "x = edge_detection(vid_path='./test_data/originals/001.mp4', fps=15, t_lower=50, t_upper=150)"
   ]
  },
  {
   "cell_type": "code",
   "execution_count": 18,
   "metadata": {},
   "outputs": [
    {
     "name": "stdout",
     "output_type": "stream",
     "text": [
      "(15, 36482)\n"
     ]
    }
   ],
   "source": [
    "print(x.shape)"
   ]
  },
  {
   "cell_type": "code",
   "execution_count": 31,
   "metadata": {},
   "outputs": [],
   "source": [
    "def load_data(originals, deepfakes, fps, t_lower, t_upper):\n",
    "    X_edge_differences = [] \n",
    "    y = []\n",
    "\n",
    "    for video_path in os.listdir(originals):\n",
    "        relative_path = os.path.join(originals, video_path)\n",
    "        result = edge_detection(vid_path=relative_path, fps=fps, t_lower=t_lower, t_upper=t_upper)\n",
    "        if result.size == 0:\n",
    "            continue \n",
    "        print(f\"Original video {video_path} result shape: {result.shape}\")\n",
    "        X_edge_differences.append(result)\n",
    "        y.append(0)\n",
    "    \n",
    "    print(\"ORIGINALS DONEEEEE\")\n",
    "\n",
    "    for video_path in os.listdir(deepfakes):\n",
    "        relative_path = os.path.join(deepfakes, video_path)\n",
    "        \n",
    "        result = edge_detection(vid_path=relative_path, fps=fps, t_lower=t_lower, t_upper=t_upper)\n",
    "        if result.size == 0:\n",
    "            continue \n",
    "        print(f\"Deepfake video {video_path} result shape: {result.shape}\")\n",
    "        X_edge_differences.append(result)\n",
    "        \n",
    "        y.append(1)\n",
    "\n",
    "    # Find the maximum length of the second dimension\n",
    "    max_length = max(result.shape[1] for result in X_edge_differences)\n",
    "    print(f\"Max length of second dimension: {max_length}\")\n",
    "\n",
    "    # Pad each element to ensure they all have the same shape\n",
    "    X_edge_differences_padded = []\n",
    "    for result in X_edge_differences:\n",
    "        pad_width = max_length - result.shape[1]\n",
    "        padded_result = np.pad(result, ((0, 0), (0, pad_width)), mode='constant')\n",
    "        print(f\"Padded result shape: {padded_result.shape}\")\n",
    "        X_edge_differences_padded.append(padded_result)\n",
    "\n",
    "\n",
    "    return np.array(X_edge_differences_padded), np.array(y)"
   ]
  },
  {
   "cell_type": "code",
   "execution_count": 32,
   "metadata": {},
   "outputs": [
    {
     "name": "stderr",
     "output_type": "stream",
     "text": [
      "c:\\dev\\thesis2\\deepfake_manipulation_detection\\venv\\Lib\\site-packages\\google\\protobuf\\symbol_database.py:55: UserWarning: SymbolDatabase.GetPrototype() is deprecated. Please use message_factory.GetMessageClass() instead. SymbolDatabase.GetPrototype() will be removed soon.\n",
      "  warnings.warn('SymbolDatabase.GetPrototype() is deprecated. Please '\n"
     ]
    },
    {
     "name": "stdout",
     "output_type": "stream",
     "text": [
      "Original video 000.mp4 result shape: (15, 18497)\n",
      "Original video 001.mp4 result shape: (15, 36482)\n",
      "Original video 002.mp4 result shape: (15, 60026)\n",
      "Original video 003.mp4 result shape: (15, 13226)\n",
      "Original video 004.mp4 result shape: (15, 38417)\n",
      "Original video 005.mp4 result shape: (15, 14642)\n",
      "Original video 006.mp4 result shape: (15, 63002)\n",
      "Original video 007.mp4 result shape: (15, 8465)\n",
      "Original video 008.mp4 result shape: (15, 10001)\n",
      "Original video 009.mp4 result shape: (15, 36482)\n",
      "Original video 010.mp4 result shape: (15, 13226)\n",
      "Original video 011.mp4 result shape: (15, 71825)\n",
      "Original video 012.mp4 result shape: (15, 12997)\n",
      "Original video 013.mp4 result shape: (15, 19045)\n",
      "Original video 014.mp4 result shape: (15, 10817)\n",
      "Original video 016.mp4 result shape: (15, 10817)\n",
      "Original video 017.mp4 result shape: (15, 72901)\n",
      "Original video 018.mp4 result shape: (15, 17957)\n",
      "Original video 019.mp4 result shape: (15, 24337)\n",
      "Original video 020.mp4 result shape: (15, 76730)\n",
      "Original video 021.mp4 result shape: (15, 12322)\n",
      "Original video 022.mp4 result shape: (15, 57122)\n",
      "Original video 023.mp4 result shape: (15, 12101)\n",
      "Original video 024.mp4 result shape: (15, 42850)\n",
      "Original video 025.mp4 result shape: (15, 45370)\n",
      "Original video 026.mp4 result shape: (15, 14162)\n",
      "Original video 027.mp4 result shape: (15, 32762)\n",
      "Original video 028.mp4 result shape: (15, 28901)\n",
      "Original video 029.mp4 result shape: (15, 22202)\n",
      "Original video 031.mp4 result shape: (15, 53825)\n",
      "Original video 032.mp4 result shape: (15, 109562)\n",
      "Original video 033.mp4 result shape: (15, 21317)\n",
      "Original video 034.mp4 result shape: (15, 66050)\n",
      "Original video 035.mp4 result shape: (15, 28562)\n",
      "Original video 036.mp4 result shape: (15, 19322)\n",
      "Original video 037.mp4 result shape: (15, 14162)\n",
      "Original video 038.mp4 result shape: (15, 24337)\n",
      "Original video 039.mp4 result shape: (15, 24965)\n",
      "Original video 040.mp4 result shape: (15, 49285)\n",
      "Original video 041.mp4 result shape: (15, 16385)\n",
      "Original video 042.mp4 result shape: (15, 48842)\n",
      "Original video 043.mp4 result shape: (15, 58565)\n",
      "Original video 044.mp4 result shape: (15, 76730)\n",
      "Original video 046.mp4 result shape: (15, 99857)\n",
      "Original video 047.mp4 result shape: (15, 14162)\n",
      "Original video 048.mp4 result shape: (15, 21317)\n",
      "Original video 049.mp4 result shape: (15, 47090)\n",
      "Original video 050.mp4 result shape: (15, 24650)\n",
      "Original video 051.mp4 result shape: (15, 41617)\n",
      "Original video 052.mp4 result shape: (15, 331777)\n",
      "Original video 053.mp4 result shape: (15, 10610)\n",
      "Original video 054.mp4 result shape: (15, 19601)\n",
      "Original video 055.mp4 result shape: (15, 36101)\n",
      "Original video 056.mp4 result shape: (15, 55697)\n",
      "Original video 057.mp4 result shape: (15, 21026)\n",
      "Original video 058.mp4 result shape: (15, 18226)\n",
      "Original video 059.mp4 result shape: (15, 18497)\n",
      "Original video 061.mp4 result shape: (15, 12545)\n",
      "Original video 062.mp4 result shape: (15, 10405)\n",
      "Original video 063.mp4 result shape: (15, 19045)\n",
      "Original video 064.mp4 result shape: (15, 39602)\n",
      "Original video 065.mp4 result shape: (15, 61010)\n",
      "Original video 066.mp4 result shape: (15, 13226)\n",
      "Original video 067.mp4 result shape: (15, 43682)\n",
      "Original video 068.mp4 result shape: (15, 37637)\n",
      "Original video 069.mp4 result shape: (15, 211601)\n",
      "Original video 070.mp4 result shape: (15, 12997)\n",
      "Original video 071.mp4 result shape: (15, 18770)\n",
      "Original video 072.mp4 result shape: (15, 11237)\n",
      "Original video 073.mp4 result shape: (15, 51530)\n",
      "Original video 074.mp4 result shape: (15, 86437)\n",
      "ORIGINALS DONEEEEE\n",
      "Deepfake video 186_170.mp4 result shape: (15, 151322)\n",
      "Deepfake video 434_438.mp4 result shape: (15, 19045)\n",
      "Deepfake video 435_456.mp4 result shape: (15, 44945)\n",
      "Deepfake video 436_526.mp4 result shape: (15, 43682)\n",
      "Deepfake video 437_360.mp4 result shape: (15, 150545)\n",
      "Deepfake video 438_434.mp4 result shape: (15, 21610)\n",
      "Deepfake video 439_441.mp4 result shape: (15, 70226)\n",
      "Deepfake video 440_364.mp4 result shape: (15, 27557)\n",
      "Deepfake video 441_439.mp4 result shape: (15, 73985)\n",
      "Deepfake video 442_195.mp4 result shape: (15, 113570)\n",
      "Deepfake video 443_514.mp4 result shape: (15, 10405)\n",
      "Deepfake video 444_655.mp4 result shape: (15, 21905)\n",
      "Deepfake video 445_494.mp4 result shape: (15, 61505)\n",
      "Deepfake video 446_667.mp4 result shape: (15, 285157)\n",
      "Deepfake video 461_250.mp4 result shape: (15, 41617)\n",
      "Deepfake video 946_049.mp4 result shape: (15, 42437)\n",
      "Deepfake video 947_951.mp4 result shape: (15, 45370)\n",
      "Deepfake video 948_965.mp4 result shape: (15, 298117)\n",
      "Deepfake video 949_868.mp4 result shape: (15, 22802)\n",
      "Deepfake video 950_836.mp4 result shape: (15, 176401)\n",
      "Deepfake video 951_947.mp4 result shape: (15, 50177)\n",
      "Deepfake video 952_882.mp4 result shape: (15, 128882)\n",
      "Deepfake video 953_974.mp4 result shape: (15, 55226)\n",
      "Deepfake video 954_976.mp4 result shape: (15, 12322)\n",
      "Deepfake video 955_078.mp4 result shape: (15, 60026)\n",
      "Deepfake video 956_958.mp4 result shape: (15, 18770)\n",
      "Deepfake video 957_959.mp4 result shape: (15, 163217)\n",
      "Deepfake video 958_956.mp4 result shape: (15, 14885)\n",
      "Deepfake video 959_957.mp4 result shape: (15, 121105)\n",
      "Deepfake video 960_999.mp4 result shape: (15, 73442)\n",
      "Deepfake video 961_069.mp4 result shape: (15, 124610)\n",
      "Deepfake video 962_929.mp4 result shape: (15, 16130)\n",
      "Deepfake video 963_879.mp4 result shape: (15, 33125)\n",
      "Deepfake video 964_174.mp4 result shape: (15, 27557)\n",
      "Deepfake video 965_948.mp4 result shape: (15, 339890)\n",
      "Deepfake video 966_988.mp4 result shape: (15, 13925)\n",
      "Deepfake video 967_984.mp4 result shape: (15, 67082)\n",
      "Deepfake video 968_884.mp4 result shape: (15, 55697)\n",
      "Deepfake video 969_897.mp4 result shape: (15, 11450)\n",
      "Deepfake video 970_973.mp4 result shape: (15, 12770)\n",
      "Deepfake video 971_564.mp4 result shape: (15, 93026)\n",
      "Deepfake video 972_718.mp4 result shape: (15, 152882)\n",
      "Deepfake video 973_970.mp4 result shape: (15, 15626)\n",
      "Deepfake video 974_953.mp4 result shape: (15, 15877)\n",
      "Deepfake video 975_978.mp4 result shape: (15, 44945)\n",
      "Deepfake video 976_954.mp4 result shape: (15, 20737)\n",
      "Deepfake video 977_075.mp4 result shape: (15, 97345)\n",
      "Deepfake video 978_975.mp4 result shape: (15, 73985)\n",
      "Deepfake video 979_875.mp4 result shape: (15, 52442)\n",
      "Deepfake video 980_992.mp4 result shape: (15, 11665)\n",
      "Deepfake video 981_985.mp4 result shape: (15, 10405)\n",
      "Deepfake video 982_004.mp4 result shape: (15, 29242)\n",
      "Deepfake video 983_113.mp4 result shape: (15, 29585)\n",
      "Deepfake video 984_967.mp4 result shape: (15, 51077)\n",
      "Deepfake video 985_981.mp4 result shape: (15, 18226)\n",
      "Deepfake video 986_994.mp4 result shape: (15, 35722)\n",
      "Deepfake video 987_938.mp4 result shape: (15, 22501)\n",
      "Deepfake video 988_966.mp4 result shape: (15, 11237)\n",
      "Deepfake video 989_993.mp4 result shape: (15, 10001)\n",
      "Deepfake video 990_008.mp4 result shape: (15, 19322)\n",
      "Deepfake video 991_064.mp4 result shape: (15, 25601)\n",
      "Deepfake video 992_980.mp4 result shape: (15, 10202)\n",
      "Deepfake video 993_989.mp4 result shape: (15, 9410)\n",
      "Deepfake video 994_986.mp4 result shape: (15, 13226)\n",
      "Deepfake video 995_233.mp4 result shape: (15, 18770)\n",
      "Deepfake video 996_056.mp4 result shape: (15, 37250)\n",
      "Deepfake video 997_040.mp4 result shape: (15, 13226)\n",
      "Deepfake video 998_561.mp4 result shape: (15, 52442)\n",
      "Deepfake video 999_960.mp4 result shape: (15, 25282)\n",
      "Max length of second dimension: 339890\n",
      "Padded result shape: (15, 339890)\n",
      "Padded result shape: (15, 339890)\n",
      "Padded result shape: (15, 339890)\n",
      "Padded result shape: (15, 339890)\n",
      "Padded result shape: (15, 339890)\n",
      "Padded result shape: (15, 339890)\n",
      "Padded result shape: (15, 339890)\n",
      "Padded result shape: (15, 339890)\n",
      "Padded result shape: (15, 339890)\n",
      "Padded result shape: (15, 339890)\n",
      "Padded result shape: (15, 339890)\n",
      "Padded result shape: (15, 339890)\n",
      "Padded result shape: (15, 339890)\n",
      "Padded result shape: (15, 339890)\n",
      "Padded result shape: (15, 339890)\n",
      "Padded result shape: (15, 339890)\n",
      "Padded result shape: (15, 339890)\n",
      "Padded result shape: (15, 339890)\n",
      "Padded result shape: (15, 339890)\n",
      "Padded result shape: (15, 339890)\n",
      "Padded result shape: (15, 339890)\n",
      "Padded result shape: (15, 339890)\n",
      "Padded result shape: (15, 339890)\n",
      "Padded result shape: (15, 339890)\n",
      "Padded result shape: (15, 339890)\n",
      "Padded result shape: (15, 339890)\n",
      "Padded result shape: (15, 339890)\n",
      "Padded result shape: (15, 339890)\n",
      "Padded result shape: (15, 339890)\n",
      "Padded result shape: (15, 339890)\n",
      "Padded result shape: (15, 339890)\n",
      "Padded result shape: (15, 339890)\n",
      "Padded result shape: (15, 339890)\n",
      "Padded result shape: (15, 339890)\n",
      "Padded result shape: (15, 339890)\n",
      "Padded result shape: (15, 339890)\n",
      "Padded result shape: (15, 339890)\n",
      "Padded result shape: (15, 339890)\n",
      "Padded result shape: (15, 339890)\n",
      "Padded result shape: (15, 339890)\n",
      "Padded result shape: (15, 339890)\n",
      "Padded result shape: (15, 339890)\n",
      "Padded result shape: (15, 339890)\n",
      "Padded result shape: (15, 339890)\n",
      "Padded result shape: (15, 339890)\n",
      "Padded result shape: (15, 339890)\n",
      "Padded result shape: (15, 339890)\n",
      "Padded result shape: (15, 339890)\n",
      "Padded result shape: (15, 339890)\n",
      "Padded result shape: (15, 339890)\n",
      "Padded result shape: (15, 339890)\n",
      "Padded result shape: (15, 339890)\n",
      "Padded result shape: (15, 339890)\n",
      "Padded result shape: (15, 339890)\n",
      "Padded result shape: (15, 339890)\n",
      "Padded result shape: (15, 339890)\n",
      "Padded result shape: (15, 339890)\n",
      "Padded result shape: (15, 339890)\n",
      "Padded result shape: (15, 339890)\n",
      "Padded result shape: (15, 339890)\n",
      "Padded result shape: (15, 339890)\n",
      "Padded result shape: (15, 339890)\n",
      "Padded result shape: (15, 339890)\n",
      "Padded result shape: (15, 339890)\n",
      "Padded result shape: (15, 339890)\n",
      "Padded result shape: (15, 339890)\n",
      "Padded result shape: (15, 339890)\n",
      "Padded result shape: (15, 339890)\n",
      "Padded result shape: (15, 339890)\n",
      "Padded result shape: (15, 339890)\n",
      "Padded result shape: (15, 339890)\n",
      "Padded result shape: (15, 339890)\n",
      "Padded result shape: (15, 339890)\n",
      "Padded result shape: (15, 339890)\n",
      "Padded result shape: (15, 339890)\n",
      "Padded result shape: (15, 339890)\n",
      "Padded result shape: (15, 339890)\n",
      "Padded result shape: (15, 339890)\n",
      "Padded result shape: (15, 339890)\n",
      "Padded result shape: (15, 339890)\n",
      "Padded result shape: (15, 339890)\n",
      "Padded result shape: (15, 339890)\n",
      "Padded result shape: (15, 339890)\n",
      "Padded result shape: (15, 339890)\n",
      "Padded result shape: (15, 339890)\n",
      "Padded result shape: (15, 339890)\n",
      "Padded result shape: (15, 339890)\n",
      "Padded result shape: (15, 339890)\n",
      "Padded result shape: (15, 339890)\n",
      "Padded result shape: (15, 339890)\n",
      "Padded result shape: (15, 339890)\n",
      "Padded result shape: (15, 339890)\n",
      "Padded result shape: (15, 339890)\n",
      "Padded result shape: (15, 339890)\n",
      "Padded result shape: (15, 339890)\n",
      "Padded result shape: (15, 339890)\n",
      "Padded result shape: (15, 339890)\n",
      "Padded result shape: (15, 339890)\n",
      "Padded result shape: (15, 339890)\n",
      "Padded result shape: (15, 339890)\n",
      "Padded result shape: (15, 339890)\n",
      "Padded result shape: (15, 339890)\n",
      "Padded result shape: (15, 339890)\n",
      "Padded result shape: (15, 339890)\n",
      "Padded result shape: (15, 339890)\n",
      "Padded result shape: (15, 339890)\n",
      "Padded result shape: (15, 339890)\n",
      "Padded result shape: (15, 339890)\n",
      "Padded result shape: (15, 339890)\n",
      "Padded result shape: (15, 339890)\n",
      "Padded result shape: (15, 339890)\n",
      "Padded result shape: (15, 339890)\n",
      "Padded result shape: (15, 339890)\n",
      "Padded result shape: (15, 339890)\n",
      "Padded result shape: (15, 339890)\n",
      "Padded result shape: (15, 339890)\n",
      "Padded result shape: (15, 339890)\n",
      "Padded result shape: (15, 339890)\n",
      "Padded result shape: (15, 339890)\n",
      "Padded result shape: (15, 339890)\n",
      "Padded result shape: (15, 339890)\n",
      "Padded result shape: (15, 339890)\n",
      "Padded result shape: (15, 339890)\n",
      "Padded result shape: (15, 339890)\n",
      "Padded result shape: (15, 339890)\n",
      "Padded result shape: (15, 339890)\n",
      "Padded result shape: (15, 339890)\n",
      "Padded result shape: (15, 339890)\n",
      "Padded result shape: (15, 339890)\n",
      "Padded result shape: (15, 339890)\n",
      "Padded result shape: (15, 339890)\n",
      "Padded result shape: (15, 339890)\n",
      "Padded result shape: (15, 339890)\n",
      "Padded result shape: (15, 339890)\n",
      "Padded result shape: (15, 339890)\n",
      "Padded result shape: (15, 339890)\n",
      "Padded result shape: (15, 339890)\n",
      "Padded result shape: (15, 339890)\n",
      "Padded result shape: (15, 339890)\n",
      "Padded result shape: (15, 339890)\n"
     ]
    }
   ],
   "source": [
    "X, y = load_data(originals='./test_data/originals', deepfakes='./test_data/deepfakes', fps=15, t_lower=50, t_upper=150)"
   ]
  },
  {
   "cell_type": "code",
   "execution_count": 33,
   "metadata": {},
   "outputs": [
    {
     "name": "stdout",
     "output_type": "stream",
     "text": [
      "(140, 15, 339890) (140,)\n"
     ]
    }
   ],
   "source": [
    "print(X.shape, y.shape)"
   ]
  },
  {
   "cell_type": "code",
   "execution_count": 34,
   "metadata": {},
   "outputs": [],
   "source": [
    "X_train, X_test, y_train, y_test = train_test_split(X, y, test_size=0.2)"
   ]
  },
  {
   "cell_type": "code",
   "execution_count": 38,
   "metadata": {},
   "outputs": [
    {
     "name": "stdout",
     "output_type": "stream",
     "text": [
      "Shape of X_train: (112, 15, 339890)\n",
      "Shape of y_train: (112,)\n",
      "Shape of X_test: (28, 15, 339890)\n",
      "Shape of y_test: (28,)\n"
     ]
    }
   ],
   "source": [
    "print(f\"Shape of X_train: {X_train.shape}\")\n",
    "print(f\"Shape of y_train: {y_train.shape}\")\n",
    "print(f\"Shape of X_test: {X_test.shape}\")\n",
    "print(f\"Shape of y_test: {y_test.shape}\")"
   ]
  },
  {
   "cell_type": "code",
   "execution_count": 41,
   "metadata": {},
   "outputs": [
    {
     "ename": "MemoryError",
     "evalue": "Unable to allocate 4.25 GiB for an array with shape (1680, 339890) and data type float64",
     "output_type": "error",
     "traceback": [
      "\u001b[1;31m---------------------------------------------------------------------------\u001b[0m",
      "\u001b[1;31mMemoryError\u001b[0m                               Traceback (most recent call last)",
      "Cell \u001b[1;32mIn[41], line 11\u001b[0m\n\u001b[0;32m      9\u001b[0m n_components \u001b[38;5;241m=\u001b[39m \u001b[38;5;241m50\u001b[39m  \u001b[38;5;66;03m# Number of components after PCA, can be adjusted\u001b[39;00m\n\u001b[0;32m     10\u001b[0m pca \u001b[38;5;241m=\u001b[39m PCA(n_components\u001b[38;5;241m=\u001b[39mn_components)\n\u001b[1;32m---> 11\u001b[0m X_train_pca \u001b[38;5;241m=\u001b[39m \u001b[43mpca\u001b[49m\u001b[38;5;241;43m.\u001b[39;49m\u001b[43mfit_transform\u001b[49m\u001b[43m(\u001b[49m\u001b[43mX_train_reshaped\u001b[49m\u001b[43m)\u001b[49m\n\u001b[0;32m     12\u001b[0m X_test_pca \u001b[38;5;241m=\u001b[39m pca\u001b[38;5;241m.\u001b[39mtransform(X_test_reshaped)\n\u001b[0;32m     14\u001b[0m \u001b[38;5;66;03m# Reshape back to the original time series format\u001b[39;00m\n",
      "File \u001b[1;32mc:\\dev\\thesis2\\deepfake_manipulation_detection\\venv\\Lib\\site-packages\\sklearn\\utils\\_set_output.py:313\u001b[0m, in \u001b[0;36m_wrap_method_output.<locals>.wrapped\u001b[1;34m(self, X, *args, **kwargs)\u001b[0m\n\u001b[0;32m    311\u001b[0m \u001b[38;5;129m@wraps\u001b[39m(f)\n\u001b[0;32m    312\u001b[0m \u001b[38;5;28;01mdef\u001b[39;00m \u001b[38;5;21mwrapped\u001b[39m(\u001b[38;5;28mself\u001b[39m, X, \u001b[38;5;241m*\u001b[39margs, \u001b[38;5;241m*\u001b[39m\u001b[38;5;241m*\u001b[39mkwargs):\n\u001b[1;32m--> 313\u001b[0m     data_to_wrap \u001b[38;5;241m=\u001b[39m \u001b[43mf\u001b[49m\u001b[43m(\u001b[49m\u001b[38;5;28;43mself\u001b[39;49m\u001b[43m,\u001b[49m\u001b[43m \u001b[49m\u001b[43mX\u001b[49m\u001b[43m,\u001b[49m\u001b[43m \u001b[49m\u001b[38;5;241;43m*\u001b[39;49m\u001b[43margs\u001b[49m\u001b[43m,\u001b[49m\u001b[43m \u001b[49m\u001b[38;5;241;43m*\u001b[39;49m\u001b[38;5;241;43m*\u001b[39;49m\u001b[43mkwargs\u001b[49m\u001b[43m)\u001b[49m\n\u001b[0;32m    314\u001b[0m     \u001b[38;5;28;01mif\u001b[39;00m \u001b[38;5;28misinstance\u001b[39m(data_to_wrap, \u001b[38;5;28mtuple\u001b[39m):\n\u001b[0;32m    315\u001b[0m         \u001b[38;5;66;03m# only wrap the first output for cross decomposition\u001b[39;00m\n\u001b[0;32m    316\u001b[0m         return_tuple \u001b[38;5;241m=\u001b[39m (\n\u001b[0;32m    317\u001b[0m             _wrap_data_with_container(method, data_to_wrap[\u001b[38;5;241m0\u001b[39m], X, \u001b[38;5;28mself\u001b[39m),\n\u001b[0;32m    318\u001b[0m             \u001b[38;5;241m*\u001b[39mdata_to_wrap[\u001b[38;5;241m1\u001b[39m:],\n\u001b[0;32m    319\u001b[0m         )\n",
      "File \u001b[1;32mc:\\dev\\thesis2\\deepfake_manipulation_detection\\venv\\Lib\\site-packages\\sklearn\\base.py:1473\u001b[0m, in \u001b[0;36m_fit_context.<locals>.decorator.<locals>.wrapper\u001b[1;34m(estimator, *args, **kwargs)\u001b[0m\n\u001b[0;32m   1466\u001b[0m     estimator\u001b[38;5;241m.\u001b[39m_validate_params()\n\u001b[0;32m   1468\u001b[0m \u001b[38;5;28;01mwith\u001b[39;00m config_context(\n\u001b[0;32m   1469\u001b[0m     skip_parameter_validation\u001b[38;5;241m=\u001b[39m(\n\u001b[0;32m   1470\u001b[0m         prefer_skip_nested_validation \u001b[38;5;129;01mor\u001b[39;00m global_skip_validation\n\u001b[0;32m   1471\u001b[0m     )\n\u001b[0;32m   1472\u001b[0m ):\n\u001b[1;32m-> 1473\u001b[0m     \u001b[38;5;28;01mreturn\u001b[39;00m \u001b[43mfit_method\u001b[49m\u001b[43m(\u001b[49m\u001b[43mestimator\u001b[49m\u001b[43m,\u001b[49m\u001b[43m \u001b[49m\u001b[38;5;241;43m*\u001b[39;49m\u001b[43margs\u001b[49m\u001b[43m,\u001b[49m\u001b[43m \u001b[49m\u001b[38;5;241;43m*\u001b[39;49m\u001b[38;5;241;43m*\u001b[39;49m\u001b[43mkwargs\u001b[49m\u001b[43m)\u001b[49m\n",
      "File \u001b[1;32mc:\\dev\\thesis2\\deepfake_manipulation_detection\\venv\\Lib\\site-packages\\sklearn\\decomposition\\_pca.py:474\u001b[0m, in \u001b[0;36mPCA.fit_transform\u001b[1;34m(self, X, y)\u001b[0m\n\u001b[0;32m    451\u001b[0m \u001b[38;5;129m@_fit_context\u001b[39m(prefer_skip_nested_validation\u001b[38;5;241m=\u001b[39m\u001b[38;5;28;01mTrue\u001b[39;00m)\n\u001b[0;32m    452\u001b[0m \u001b[38;5;28;01mdef\u001b[39;00m \u001b[38;5;21mfit_transform\u001b[39m(\u001b[38;5;28mself\u001b[39m, X, y\u001b[38;5;241m=\u001b[39m\u001b[38;5;28;01mNone\u001b[39;00m):\n\u001b[0;32m    453\u001b[0m \u001b[38;5;250m    \u001b[39m\u001b[38;5;124;03m\"\"\"Fit the model with X and apply the dimensionality reduction on X.\u001b[39;00m\n\u001b[0;32m    454\u001b[0m \n\u001b[0;32m    455\u001b[0m \u001b[38;5;124;03m    Parameters\u001b[39;00m\n\u001b[1;32m   (...)\u001b[0m\n\u001b[0;32m    472\u001b[0m \u001b[38;5;124;03m    C-ordered array, use 'np.ascontiguousarray'.\u001b[39;00m\n\u001b[0;32m    473\u001b[0m \u001b[38;5;124;03m    \"\"\"\u001b[39;00m\n\u001b[1;32m--> 474\u001b[0m     U, S, _, X, x_is_centered, xp \u001b[38;5;241m=\u001b[39m \u001b[38;5;28;43mself\u001b[39;49m\u001b[38;5;241;43m.\u001b[39;49m\u001b[43m_fit\u001b[49m\u001b[43m(\u001b[49m\u001b[43mX\u001b[49m\u001b[43m)\u001b[49m\n\u001b[0;32m    475\u001b[0m     \u001b[38;5;28;01mif\u001b[39;00m U \u001b[38;5;129;01mis\u001b[39;00m \u001b[38;5;129;01mnot\u001b[39;00m \u001b[38;5;28;01mNone\u001b[39;00m:\n\u001b[0;32m    476\u001b[0m         U \u001b[38;5;241m=\u001b[39m U[:, : \u001b[38;5;28mself\u001b[39m\u001b[38;5;241m.\u001b[39mn_components_]\n",
      "File \u001b[1;32mc:\\dev\\thesis2\\deepfake_manipulation_detection\\venv\\Lib\\site-packages\\sklearn\\decomposition\\_pca.py:548\u001b[0m, in \u001b[0;36mPCA._fit\u001b[1;34m(self, X)\u001b[0m\n\u001b[0;32m    546\u001b[0m     \u001b[38;5;28;01mreturn\u001b[39;00m \u001b[38;5;28mself\u001b[39m\u001b[38;5;241m.\u001b[39m_fit_full(X, n_components, xp, is_array_api_compliant)\n\u001b[0;32m    547\u001b[0m \u001b[38;5;28;01melif\u001b[39;00m \u001b[38;5;28mself\u001b[39m\u001b[38;5;241m.\u001b[39m_fit_svd_solver \u001b[38;5;129;01min\u001b[39;00m [\u001b[38;5;124m\"\u001b[39m\u001b[38;5;124marpack\u001b[39m\u001b[38;5;124m\"\u001b[39m, \u001b[38;5;124m\"\u001b[39m\u001b[38;5;124mrandomized\u001b[39m\u001b[38;5;124m\"\u001b[39m]:\n\u001b[1;32m--> 548\u001b[0m     \u001b[38;5;28;01mreturn\u001b[39;00m \u001b[38;5;28;43mself\u001b[39;49m\u001b[38;5;241;43m.\u001b[39;49m\u001b[43m_fit_truncated\u001b[49m\u001b[43m(\u001b[49m\u001b[43mX\u001b[49m\u001b[43m,\u001b[49m\u001b[43m \u001b[49m\u001b[43mn_components\u001b[49m\u001b[43m,\u001b[49m\u001b[43m \u001b[49m\u001b[43mxp\u001b[49m\u001b[43m)\u001b[49m\n",
      "File \u001b[1;32mc:\\dev\\thesis2\\deepfake_manipulation_detection\\venv\\Lib\\site-packages\\sklearn\\decomposition\\_pca.py:748\u001b[0m, in \u001b[0;36mPCA._fit_truncated\u001b[1;34m(self, X, n_components, xp)\u001b[0m\n\u001b[0;32m    746\u001b[0m \u001b[38;5;28;01melse\u001b[39;00m:\n\u001b[0;32m    747\u001b[0m     \u001b[38;5;28mself\u001b[39m\u001b[38;5;241m.\u001b[39mmean_ \u001b[38;5;241m=\u001b[39m xp\u001b[38;5;241m.\u001b[39mmean(X, axis\u001b[38;5;241m=\u001b[39m\u001b[38;5;241m0\u001b[39m)\n\u001b[1;32m--> 748\u001b[0m     X_centered \u001b[38;5;241m=\u001b[39m \u001b[43mxp\u001b[49m\u001b[38;5;241;43m.\u001b[39;49m\u001b[43masarray\u001b[49m\u001b[43m(\u001b[49m\u001b[43mX\u001b[49m\u001b[43m,\u001b[49m\u001b[43m \u001b[49m\u001b[43mcopy\u001b[49m\u001b[38;5;241;43m=\u001b[39;49m\u001b[38;5;28;43;01mTrue\u001b[39;49;00m\u001b[43m)\u001b[49m \u001b[38;5;28;01mif\u001b[39;00m \u001b[38;5;28mself\u001b[39m\u001b[38;5;241m.\u001b[39mcopy \u001b[38;5;28;01melse\u001b[39;00m X\n\u001b[0;32m    749\u001b[0m     X_centered \u001b[38;5;241m-\u001b[39m\u001b[38;5;241m=\u001b[39m \u001b[38;5;28mself\u001b[39m\u001b[38;5;241m.\u001b[39mmean_\n\u001b[0;32m    750\u001b[0m     x_is_centered \u001b[38;5;241m=\u001b[39m \u001b[38;5;129;01mnot\u001b[39;00m \u001b[38;5;28mself\u001b[39m\u001b[38;5;241m.\u001b[39mcopy\n",
      "File \u001b[1;32mc:\\dev\\thesis2\\deepfake_manipulation_detection\\venv\\Lib\\site-packages\\sklearn\\utils\\_array_api.py:396\u001b[0m, in \u001b[0;36m_NumPyAPIWrapper.asarray\u001b[1;34m(self, x, dtype, device, copy)\u001b[0m\n\u001b[0;32m    394\u001b[0m \u001b[38;5;66;03m# Support copy in NumPy namespace\u001b[39;00m\n\u001b[0;32m    395\u001b[0m \u001b[38;5;28;01mif\u001b[39;00m copy \u001b[38;5;129;01mis\u001b[39;00m \u001b[38;5;28;01mTrue\u001b[39;00m:\n\u001b[1;32m--> 396\u001b[0m     \u001b[38;5;28;01mreturn\u001b[39;00m \u001b[43mnumpy\u001b[49m\u001b[38;5;241;43m.\u001b[39;49m\u001b[43marray\u001b[49m\u001b[43m(\u001b[49m\u001b[43mx\u001b[49m\u001b[43m,\u001b[49m\u001b[43m \u001b[49m\u001b[43mcopy\u001b[49m\u001b[38;5;241;43m=\u001b[39;49m\u001b[38;5;28;43;01mTrue\u001b[39;49;00m\u001b[43m,\u001b[49m\u001b[43m \u001b[49m\u001b[43mdtype\u001b[49m\u001b[38;5;241;43m=\u001b[39;49m\u001b[43mdtype\u001b[49m\u001b[43m)\u001b[49m\n\u001b[0;32m    397\u001b[0m \u001b[38;5;28;01melse\u001b[39;00m:\n\u001b[0;32m    398\u001b[0m     \u001b[38;5;28;01mreturn\u001b[39;00m numpy\u001b[38;5;241m.\u001b[39masarray(x, dtype\u001b[38;5;241m=\u001b[39mdtype)\n",
      "\u001b[1;31mMemoryError\u001b[0m: Unable to allocate 4.25 GiB for an array with shape (1680, 339890) and data type float64"
     ]
    }
   ],
   "source": [
    "# Reshape X_train and X_test for PCA\n",
    "num_samples, num_timesteps, num_features = X_train.shape\n",
    "X_train_reshaped = X_train.reshape((num_samples * num_timesteps, num_features))\n",
    "\n",
    "num_test_samples, num_test_timesteps, num_test_features = X_test.shape\n",
    "X_test_reshaped = X_test.reshape((num_test_samples * num_test_timesteps, num_test_features))\n",
    "\n",
    "# Apply PCA to reduce dimensionality\n",
    "n_components = 50  # Number of components after PCA, can be adjusted\n",
    "pca = PCA(n_components=n_components)\n",
    "X_train_pca = pca.fit_transform(X_train_reshaped)\n",
    "X_test_pca = pca.transform(X_test_reshaped)\n",
    "\n",
    "# Reshape back to the original time series format\n",
    "X_train_pca = X_train_pca.reshape((num_samples, num_timesteps, n_components))\n",
    "X_test_pca = X_test_pca.reshape((num_test_samples, num_test_timesteps, n_components))\n",
    "\n",
    "print(\"Shape of X_train after PCA:\", X_train_pca.shape)\n",
    "print(\"Shape of X_test after PCA:\", X_test_pca.shape)"
   ]
  },
  {
   "cell_type": "code",
   "execution_count": 40,
   "metadata": {},
   "outputs": [],
   "source": [
    "from tensorflow.keras.models import Sequential\n",
    "from tensorflow.keras.layers import LSTM, Dense, Masking, Dropout, BatchNormalization,Bidirectional\n",
    "from sklearn.decomposition import PCA"
   ]
  },
  {
   "cell_type": "code",
   "execution_count": 12,
   "metadata": {},
   "outputs": [
    {
     "name": "stderr",
     "output_type": "stream",
     "text": [
      "c:\\dev\\thesis2\\deepfake_manipulation_detection\\venv\\Lib\\site-packages\\keras\\src\\layers\\rnn\\rnn.py:204: UserWarning: Do not pass an `input_shape`/`input_dim` argument to a layer. When using Sequential models, prefer using an `Input(shape)` object as the first layer in the model instead.\n",
      "  super().__init__(**kwargs)\n"
     ]
    },
    {
     "data": {
      "text/html": [
       "<pre style=\"white-space:pre;overflow-x:auto;line-height:normal;font-family:Menlo,'DejaVu Sans Mono',consolas,'Courier New',monospace\"><span style=\"font-weight: bold\">Model: \"sequential\"</span>\n",
       "</pre>\n"
      ],
      "text/plain": [
       "\u001b[1mModel: \"sequential\"\u001b[0m\n"
      ]
     },
     "metadata": {},
     "output_type": "display_data"
    },
    {
     "data": {
      "text/html": [
       "<pre style=\"white-space:pre;overflow-x:auto;line-height:normal;font-family:Menlo,'DejaVu Sans Mono',consolas,'Courier New',monospace\">┏━━━━━━━━━━━━━━━━━━━━━━━━━━━━━━━━━┳━━━━━━━━━━━━━━━━━━━━━━━━┳━━━━━━━━━━━━━━━┓\n",
       "┃<span style=\"font-weight: bold\"> Layer (type)                    </span>┃<span style=\"font-weight: bold\"> Output Shape           </span>┃<span style=\"font-weight: bold\">       Param # </span>┃\n",
       "┡━━━━━━━━━━━━━━━━━━━━━━━━━━━━━━━━━╇━━━━━━━━━━━━━━━━━━━━━━━━╇━━━━━━━━━━━━━━━┩\n",
       "│ lstm (<span style=\"color: #0087ff; text-decoration-color: #0087ff\">LSTM</span>)                     │ (<span style=\"color: #00d7ff; text-decoration-color: #00d7ff\">None</span>, <span style=\"color: #00af00; text-decoration-color: #00af00\">25</span>, <span style=\"color: #00af00; text-decoration-color: #00af00\">128</span>)        │   <span style=\"color: #00af00; text-decoration-color: #00af00\">146,066,432</span> │\n",
       "├─────────────────────────────────┼────────────────────────┼───────────────┤\n",
       "│ dropout (<span style=\"color: #0087ff; text-decoration-color: #0087ff\">Dropout</span>)               │ (<span style=\"color: #00d7ff; text-decoration-color: #00d7ff\">None</span>, <span style=\"color: #00af00; text-decoration-color: #00af00\">25</span>, <span style=\"color: #00af00; text-decoration-color: #00af00\">128</span>)        │             <span style=\"color: #00af00; text-decoration-color: #00af00\">0</span> │\n",
       "├─────────────────────────────────┼────────────────────────┼───────────────┤\n",
       "│ lstm_1 (<span style=\"color: #0087ff; text-decoration-color: #0087ff\">LSTM</span>)                   │ (<span style=\"color: #00d7ff; text-decoration-color: #00d7ff\">None</span>, <span style=\"color: #00af00; text-decoration-color: #00af00\">64</span>)             │        <span style=\"color: #00af00; text-decoration-color: #00af00\">49,408</span> │\n",
       "├─────────────────────────────────┼────────────────────────┼───────────────┤\n",
       "│ dropout_1 (<span style=\"color: #0087ff; text-decoration-color: #0087ff\">Dropout</span>)             │ (<span style=\"color: #00d7ff; text-decoration-color: #00d7ff\">None</span>, <span style=\"color: #00af00; text-decoration-color: #00af00\">64</span>)             │             <span style=\"color: #00af00; text-decoration-color: #00af00\">0</span> │\n",
       "├─────────────────────────────────┼────────────────────────┼───────────────┤\n",
       "│ batch_normalization             │ (<span style=\"color: #00d7ff; text-decoration-color: #00d7ff\">None</span>, <span style=\"color: #00af00; text-decoration-color: #00af00\">64</span>)             │           <span style=\"color: #00af00; text-decoration-color: #00af00\">256</span> │\n",
       "│ (<span style=\"color: #0087ff; text-decoration-color: #0087ff\">BatchNormalization</span>)            │                        │               │\n",
       "├─────────────────────────────────┼────────────────────────┼───────────────┤\n",
       "│ dense (<span style=\"color: #0087ff; text-decoration-color: #0087ff\">Dense</span>)                   │ (<span style=\"color: #00d7ff; text-decoration-color: #00d7ff\">None</span>, <span style=\"color: #00af00; text-decoration-color: #00af00\">64</span>)             │         <span style=\"color: #00af00; text-decoration-color: #00af00\">4,160</span> │\n",
       "├─────────────────────────────────┼────────────────────────┼───────────────┤\n",
       "│ dropout_2 (<span style=\"color: #0087ff; text-decoration-color: #0087ff\">Dropout</span>)             │ (<span style=\"color: #00d7ff; text-decoration-color: #00d7ff\">None</span>, <span style=\"color: #00af00; text-decoration-color: #00af00\">64</span>)             │             <span style=\"color: #00af00; text-decoration-color: #00af00\">0</span> │\n",
       "├─────────────────────────────────┼────────────────────────┼───────────────┤\n",
       "│ dense_1 (<span style=\"color: #0087ff; text-decoration-color: #0087ff\">Dense</span>)                 │ (<span style=\"color: #00d7ff; text-decoration-color: #00d7ff\">None</span>, <span style=\"color: #00af00; text-decoration-color: #00af00\">32</span>)             │         <span style=\"color: #00af00; text-decoration-color: #00af00\">2,080</span> │\n",
       "├─────────────────────────────────┼────────────────────────┼───────────────┤\n",
       "│ dropout_3 (<span style=\"color: #0087ff; text-decoration-color: #0087ff\">Dropout</span>)             │ (<span style=\"color: #00d7ff; text-decoration-color: #00d7ff\">None</span>, <span style=\"color: #00af00; text-decoration-color: #00af00\">32</span>)             │             <span style=\"color: #00af00; text-decoration-color: #00af00\">0</span> │\n",
       "├─────────────────────────────────┼────────────────────────┼───────────────┤\n",
       "│ dense_2 (<span style=\"color: #0087ff; text-decoration-color: #0087ff\">Dense</span>)                 │ (<span style=\"color: #00d7ff; text-decoration-color: #00d7ff\">None</span>, <span style=\"color: #00af00; text-decoration-color: #00af00\">1</span>)              │            <span style=\"color: #00af00; text-decoration-color: #00af00\">33</span> │\n",
       "└─────────────────────────────────┴────────────────────────┴───────────────┘\n",
       "</pre>\n"
      ],
      "text/plain": [
       "┏━━━━━━━━━━━━━━━━━━━━━━━━━━━━━━━━━┳━━━━━━━━━━━━━━━━━━━━━━━━┳━━━━━━━━━━━━━━━┓\n",
       "┃\u001b[1m \u001b[0m\u001b[1mLayer (type)                   \u001b[0m\u001b[1m \u001b[0m┃\u001b[1m \u001b[0m\u001b[1mOutput Shape          \u001b[0m\u001b[1m \u001b[0m┃\u001b[1m \u001b[0m\u001b[1m      Param #\u001b[0m\u001b[1m \u001b[0m┃\n",
       "┡━━━━━━━━━━━━━━━━━━━━━━━━━━━━━━━━━╇━━━━━━━━━━━━━━━━━━━━━━━━╇━━━━━━━━━━━━━━━┩\n",
       "│ lstm (\u001b[38;5;33mLSTM\u001b[0m)                     │ (\u001b[38;5;45mNone\u001b[0m, \u001b[38;5;34m25\u001b[0m, \u001b[38;5;34m128\u001b[0m)        │   \u001b[38;5;34m146,066,432\u001b[0m │\n",
       "├─────────────────────────────────┼────────────────────────┼───────────────┤\n",
       "│ dropout (\u001b[38;5;33mDropout\u001b[0m)               │ (\u001b[38;5;45mNone\u001b[0m, \u001b[38;5;34m25\u001b[0m, \u001b[38;5;34m128\u001b[0m)        │             \u001b[38;5;34m0\u001b[0m │\n",
       "├─────────────────────────────────┼────────────────────────┼───────────────┤\n",
       "│ lstm_1 (\u001b[38;5;33mLSTM\u001b[0m)                   │ (\u001b[38;5;45mNone\u001b[0m, \u001b[38;5;34m64\u001b[0m)             │        \u001b[38;5;34m49,408\u001b[0m │\n",
       "├─────────────────────────────────┼────────────────────────┼───────────────┤\n",
       "│ dropout_1 (\u001b[38;5;33mDropout\u001b[0m)             │ (\u001b[38;5;45mNone\u001b[0m, \u001b[38;5;34m64\u001b[0m)             │             \u001b[38;5;34m0\u001b[0m │\n",
       "├─────────────────────────────────┼────────────────────────┼───────────────┤\n",
       "│ batch_normalization             │ (\u001b[38;5;45mNone\u001b[0m, \u001b[38;5;34m64\u001b[0m)             │           \u001b[38;5;34m256\u001b[0m │\n",
       "│ (\u001b[38;5;33mBatchNormalization\u001b[0m)            │                        │               │\n",
       "├─────────────────────────────────┼────────────────────────┼───────────────┤\n",
       "│ dense (\u001b[38;5;33mDense\u001b[0m)                   │ (\u001b[38;5;45mNone\u001b[0m, \u001b[38;5;34m64\u001b[0m)             │         \u001b[38;5;34m4,160\u001b[0m │\n",
       "├─────────────────────────────────┼────────────────────────┼───────────────┤\n",
       "│ dropout_2 (\u001b[38;5;33mDropout\u001b[0m)             │ (\u001b[38;5;45mNone\u001b[0m, \u001b[38;5;34m64\u001b[0m)             │             \u001b[38;5;34m0\u001b[0m │\n",
       "├─────────────────────────────────┼────────────────────────┼───────────────┤\n",
       "│ dense_1 (\u001b[38;5;33mDense\u001b[0m)                 │ (\u001b[38;5;45mNone\u001b[0m, \u001b[38;5;34m32\u001b[0m)             │         \u001b[38;5;34m2,080\u001b[0m │\n",
       "├─────────────────────────────────┼────────────────────────┼───────────────┤\n",
       "│ dropout_3 (\u001b[38;5;33mDropout\u001b[0m)             │ (\u001b[38;5;45mNone\u001b[0m, \u001b[38;5;34m32\u001b[0m)             │             \u001b[38;5;34m0\u001b[0m │\n",
       "├─────────────────────────────────┼────────────────────────┼───────────────┤\n",
       "│ dense_2 (\u001b[38;5;33mDense\u001b[0m)                 │ (\u001b[38;5;45mNone\u001b[0m, \u001b[38;5;34m1\u001b[0m)              │            \u001b[38;5;34m33\u001b[0m │\n",
       "└─────────────────────────────────┴────────────────────────┴───────────────┘\n"
      ]
     },
     "metadata": {},
     "output_type": "display_data"
    },
    {
     "data": {
      "text/html": [
       "<pre style=\"white-space:pre;overflow-x:auto;line-height:normal;font-family:Menlo,'DejaVu Sans Mono',consolas,'Courier New',monospace\"><span style=\"font-weight: bold\"> Total params: </span><span style=\"color: #00af00; text-decoration-color: #00af00\">146,122,369</span> (557.41 MB)\n",
       "</pre>\n"
      ],
      "text/plain": [
       "\u001b[1m Total params: \u001b[0m\u001b[38;5;34m146,122,369\u001b[0m (557.41 MB)\n"
      ]
     },
     "metadata": {},
     "output_type": "display_data"
    },
    {
     "data": {
      "text/html": [
       "<pre style=\"white-space:pre;overflow-x:auto;line-height:normal;font-family:Menlo,'DejaVu Sans Mono',consolas,'Courier New',monospace\"><span style=\"font-weight: bold\"> Trainable params: </span><span style=\"color: #00af00; text-decoration-color: #00af00\">146,122,241</span> (557.41 MB)\n",
       "</pre>\n"
      ],
      "text/plain": [
       "\u001b[1m Trainable params: \u001b[0m\u001b[38;5;34m146,122,241\u001b[0m (557.41 MB)\n"
      ]
     },
     "metadata": {},
     "output_type": "display_data"
    },
    {
     "data": {
      "text/html": [
       "<pre style=\"white-space:pre;overflow-x:auto;line-height:normal;font-family:Menlo,'DejaVu Sans Mono',consolas,'Courier New',monospace\"><span style=\"font-weight: bold\"> Non-trainable params: </span><span style=\"color: #00af00; text-decoration-color: #00af00\">128</span> (512.00 B)\n",
       "</pre>\n"
      ],
      "text/plain": [
       "\u001b[1m Non-trainable params: \u001b[0m\u001b[38;5;34m128\u001b[0m (512.00 B)\n"
      ]
     },
     "metadata": {},
     "output_type": "display_data"
    }
   ],
   "source": [
    "# Define the enhanced LSTM model\n",
    "model2 = Sequential()\n",
    "\n",
    "# Add LSTM layers with more units and dropout for regularization\n",
    "model2.add(LSTM(128, return_sequences=True, input_shape=(X_train.shape[1], X_train.shape[2])))\n",
    "model2.add(Dropout(0.2))\n",
    "model2.add(LSTM(64, return_sequences=False))\n",
    "model2.add(Dropout(0.2))\n",
    "\n",
    "# Add a Batch Normalization layer\n",
    "model2.add(BatchNormalization())\n",
    "\n",
    "# Add Dense layers with Dropout\n",
    "model2.add(Dense(64, activation='relu'))\n",
    "model2.add(Dropout(0.2))\n",
    "model2.add(Dense(32, activation='relu'))\n",
    "model2.add(Dropout(0.2))\n",
    "model2.add(Dense(1, activation='sigmoid'))\n",
    "\n",
    "# Compile the model\n",
    "model2.compile(optimizer='adam', loss='binary_crossentropy', metrics=['accuracy'])\n",
    "\n",
    "# Print the model summary\n",
    "model2.summary()"
   ]
  },
  {
   "cell_type": "code",
   "execution_count": 37,
   "metadata": {},
   "outputs": [
    {
     "name": "stdout",
     "output_type": "stream",
     "text": [
      "Epoch 1/5\n"
     ]
    },
    {
     "ename": "InvalidArgumentError",
     "evalue": "Graph execution error:\n\nDetected at node StatefulPartitionedCall/sequential_1/lstm_1/while/body/_60/sequential_1/lstm_1/while/lstm_cell_1/MatMul defined at (most recent call last):\n<stack traces unavailable>\nMatrix size-incompatible: In[0]: [32,339890], In[1]: [285157,512]\n\t [[{{node StatefulPartitionedCall/sequential_1/lstm_1/while/body/_60/sequential_1/lstm_1/while/lstm_cell_1/MatMul}}]] [Op:__inference_one_step_on_iterator_8286]",
     "output_type": "error",
     "traceback": [
      "\u001b[1;31m---------------------------------------------------------------------------\u001b[0m",
      "\u001b[1;31mInvalidArgumentError\u001b[0m                      Traceback (most recent call last)",
      "Cell \u001b[1;32mIn[37], line 1\u001b[0m\n\u001b[1;32m----> 1\u001b[0m history \u001b[38;5;241m=\u001b[39m \u001b[43mmodel2\u001b[49m\u001b[38;5;241;43m.\u001b[39;49m\u001b[43mfit\u001b[49m\u001b[43m(\u001b[49m\u001b[43mX_train\u001b[49m\u001b[43m,\u001b[49m\u001b[43m \u001b[49m\u001b[43my_train\u001b[49m\u001b[43m,\u001b[49m\u001b[43m \u001b[49m\u001b[43mepochs\u001b[49m\u001b[38;5;241;43m=\u001b[39;49m\u001b[38;5;241;43m5\u001b[39;49m\u001b[43m,\u001b[49m\u001b[43m \u001b[49m\u001b[43mbatch_size\u001b[49m\u001b[38;5;241;43m=\u001b[39;49m\u001b[38;5;241;43m32\u001b[39;49m\u001b[43m,\u001b[49m\u001b[43m \u001b[49m\u001b[43mvalidation_split\u001b[49m\u001b[38;5;241;43m=\u001b[39;49m\u001b[38;5;241;43m0.2\u001b[39;49m\u001b[43m,\u001b[49m\u001b[43m \u001b[49m\u001b[43mverbose\u001b[49m\u001b[38;5;241;43m=\u001b[39;49m\u001b[38;5;241;43m1\u001b[39;49m\u001b[43m)\u001b[49m\n",
      "File \u001b[1;32mc:\\dev\\thesis2\\deepfake_manipulation_detection\\venv\\Lib\\site-packages\\keras\\src\\utils\\traceback_utils.py:122\u001b[0m, in \u001b[0;36mfilter_traceback.<locals>.error_handler\u001b[1;34m(*args, **kwargs)\u001b[0m\n\u001b[0;32m    119\u001b[0m     filtered_tb \u001b[38;5;241m=\u001b[39m _process_traceback_frames(e\u001b[38;5;241m.\u001b[39m__traceback__)\n\u001b[0;32m    120\u001b[0m     \u001b[38;5;66;03m# To get the full stack trace, call:\u001b[39;00m\n\u001b[0;32m    121\u001b[0m     \u001b[38;5;66;03m# `keras.config.disable_traceback_filtering()`\u001b[39;00m\n\u001b[1;32m--> 122\u001b[0m     \u001b[38;5;28;01mraise\u001b[39;00m e\u001b[38;5;241m.\u001b[39mwith_traceback(filtered_tb) \u001b[38;5;28;01mfrom\u001b[39;00m \u001b[38;5;28;01mNone\u001b[39;00m\n\u001b[0;32m    123\u001b[0m \u001b[38;5;28;01mfinally\u001b[39;00m:\n\u001b[0;32m    124\u001b[0m     \u001b[38;5;28;01mdel\u001b[39;00m filtered_tb\n",
      "File \u001b[1;32mc:\\dev\\thesis2\\deepfake_manipulation_detection\\venv\\Lib\\site-packages\\tensorflow\\python\\eager\\execute.py:53\u001b[0m, in \u001b[0;36mquick_execute\u001b[1;34m(op_name, num_outputs, inputs, attrs, ctx, name)\u001b[0m\n\u001b[0;32m     51\u001b[0m \u001b[38;5;28;01mtry\u001b[39;00m:\n\u001b[0;32m     52\u001b[0m   ctx\u001b[38;5;241m.\u001b[39mensure_initialized()\n\u001b[1;32m---> 53\u001b[0m   tensors \u001b[38;5;241m=\u001b[39m pywrap_tfe\u001b[38;5;241m.\u001b[39mTFE_Py_Execute(ctx\u001b[38;5;241m.\u001b[39m_handle, device_name, op_name,\n\u001b[0;32m     54\u001b[0m                                       inputs, attrs, num_outputs)\n\u001b[0;32m     55\u001b[0m \u001b[38;5;28;01mexcept\u001b[39;00m core\u001b[38;5;241m.\u001b[39m_NotOkStatusException \u001b[38;5;28;01mas\u001b[39;00m e:\n\u001b[0;32m     56\u001b[0m   \u001b[38;5;28;01mif\u001b[39;00m name \u001b[38;5;129;01mis\u001b[39;00m \u001b[38;5;129;01mnot\u001b[39;00m \u001b[38;5;28;01mNone\u001b[39;00m:\n",
      "\u001b[1;31mInvalidArgumentError\u001b[0m: Graph execution error:\n\nDetected at node StatefulPartitionedCall/sequential_1/lstm_1/while/body/_60/sequential_1/lstm_1/while/lstm_cell_1/MatMul defined at (most recent call last):\n<stack traces unavailable>\nMatrix size-incompatible: In[0]: [32,339890], In[1]: [285157,512]\n\t [[{{node StatefulPartitionedCall/sequential_1/lstm_1/while/body/_60/sequential_1/lstm_1/while/lstm_cell_1/MatMul}}]] [Op:__inference_one_step_on_iterator_8286]"
     ]
    }
   ],
   "source": [
    "history = model2.fit(X_train, y_train, epochs=5, batch_size=32, validation_split=0.2, verbose=1)"
   ]
  },
  {
   "cell_type": "code",
   "execution_count": 14,
   "metadata": {},
   "outputs": [
    {
     "name": "stdout",
     "output_type": "stream",
     "text": [
      "\u001b[1m1/1\u001b[0m \u001b[32m━━━━━━━━━━━━━━━━━━━━\u001b[0m\u001b[37m\u001b[0m \u001b[1m2s\u001b[0m 2s/step - accuracy: 0.5000 - loss: 0.6664\n",
      "Test Accuracy: 0.5\n"
     ]
    }
   ],
   "source": [
    "# Evaluate the model on the test set\n",
    "test_loss, test_acc = model2.evaluate(X_test, y_test, verbose=1)\n",
    "print(f'Test Accuracy: {test_acc}')"
   ]
  },
  {
   "cell_type": "code",
   "execution_count": 15,
   "metadata": {},
   "outputs": [
    {
     "data": {
      "image/png": "[encoded data removed]",
      "text/plain": [
       "<Figure size 640x480 with 1 Axes>"
      ]
     },
     "metadata": {},
     "output_type": "display_data"
    },
    {
     "data": {
      "image/png": "[encoded data removed]",
      "text/plain": [
       "<Figure size 640x480 with 1 Axes>"
      ]
     },
     "metadata": {},
     "output_type": "display_data"
    }
   ],
   "source": [
    "# Plot training & validation accuracy and loss\n",
    "import matplotlib.pyplot as plt\n",
    "\n",
    "# Plot training & validation accuracy values\n",
    "plt.plot(history.history['accuracy'])\n",
    "plt.plot(history.history['val_accuracy'])\n",
    "plt.title('Model accuracy')\n",
    "plt.ylabel('Accuracy')\n",
    "plt.xlabel('Epoch')\n",
    "plt.legend(['Train', 'Validation'], loc='upper left')\n",
    "plt.show()\n",
    "\n",
    "# Plot training & validation loss values\n",
    "plt.plot(history.history['loss'])\n",
    "plt.plot(history.history['val_loss'])\n",
    "plt.title('Model loss')\n",
    "plt.ylabel('Loss')\n",
    "plt.xlabel('Epoch')\n",
    "plt.legend(['Train', 'Validation'], loc='upper left')\n",
    "plt.show()"
   ]
  }
 ],
 "metadata": {
  "kernelspec": {
   "display_name": "venv",
   "language": "python",
   "name": "python3"
  },
  "language_info": {
   "codemirror_mode": {
    "name": "ipython",
    "version": 3
   },
   "file_extension": ".py",
   "mimetype": "text/x-python",
   "name": "python",
   "nbconvert_exporter": "python",
   "pygments_lexer": "ipython3",
   "version": "3.12.3"
  }
 },
 "nbformat": 4,
 "nbformat_minor": 2
}
