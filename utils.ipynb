{
 "cells": [
  {
   "cell_type": "code",
   "execution_count": 1,
   "metadata": {},
   "outputs": [],
   "source": [
    "import os\n",
    "import cv2\n",
    "import shutil"
   ]
  },
  {
   "cell_type": "markdown",
   "metadata": {},
   "source": [
    "#### Convert a list of video folders to frames folders"
   ]
  },
  {
   "cell_type": "code",
   "execution_count": 7,
   "metadata": {},
   "outputs": [],
   "source": [
    "def vid_to_frames(vid_path, output_dir, fps=25):\n",
    "\n",
    "    # create output dir if it doesn't exist\n",
    "    if not os.path.exists(output_dir):\n",
    "        os.makedirs(output_dir)\n",
    "\n",
    "    # capture the video\n",
    "    vid = cv2.VideoCapture(vid_path)\n",
    "\n",
    "    # get original fps\n",
    "    original_fps = vid.get(cv2.CAP_PROP_FPS)\n",
    "\n",
    "    # calculate interval between frames\n",
    "    interval = int(original_fps / fps)\n",
    "\n",
    "    # initialize frame counters\n",
    "    frame_count = 0 # counter for all frames\n",
    "    saved_frame_count = 0 # counter for saved frames\n",
    "\n",
    "    # loop through each frame of the video\n",
    "    while True:\n",
    "        ret, frame = vid.read() # read a frame from the video\n",
    "        if not ret: # break the loop if no frame is returned\n",
    "            break\n",
    "\n",
    "        # check if the current frame should be saved based on the interval\n",
    "        if frame_count % interval == 0:\n",
    "            # create the filename for the saved frame\n",
    "            frame_filename = os.path.join(output_dir, f\"frame_{saved_frame_count:04d}.png\")\n",
    "            # save the frame as a png file\n",
    "            cv2.imwrite(frame_filename, frame)\n",
    "            saved_frame_count += 1\n",
    "        \n",
    "        frame_count += 1\n",
    "    \n",
    "    vid.release()\n",
    "\n",
    "    print(f\"Extracted {saved_frame_count} frames at {fps} FPS.\")"
   ]
  },
  {
   "cell_type": "markdown",
   "metadata": {},
   "source": [
    "#### Converts videos in a directory to frames in respective folders based on the video file name"
   ]
  },
  {
   "cell_type": "code",
   "execution_count": 8,
   "metadata": {},
   "outputs": [],
   "source": [
    "# input_dir = ./data/vidtimit/deepfake/videos\n",
    "# output_dir = ./data/vidtimit/deepfake/frames\n",
    "\n",
    "def vid_folders_to_frame_folders(input_dir, output_dir, fps=25):\n",
    "    \n",
    "    for video in os.listdir(input_dir):\n",
    "\n",
    "        # new folder name\n",
    "        new_dir = os.path.join(output_dir,video)\n",
    "\n",
    "        if not os.path.exists(new_dir):\n",
    "            os.makedirs(new_dir)\n",
    "        \n",
    "        vid_to_frames(os.path.join(input_dir, video), new_dir)"
   ]
  },
  {
   "cell_type": "code",
   "execution_count": null,
   "metadata": {},
   "outputs": [],
   "source": [
    "# vid_folders_to_frame_folders('./data/vidtimit/deepfake/videos', './data/vidtimit/deepfake/frames')"
   ]
  },
  {
   "cell_type": "markdown",
   "metadata": {},
   "source": [
    "#### Convert Video to Frames"
   ]
  },
  {
   "cell_type": "code",
   "execution_count": null,
   "metadata": {},
   "outputs": [],
   "source": [
    "def vid_to_frames(vid_path, output_dir, fps=25):\n",
    "\n",
    "    # create output dir if it doesn't exist\n",
    "    if not os.path.exists(output_dir):\n",
    "        os.makedirs(output_dir)\n",
    "\n",
    "    # capture the video\n",
    "    vid = cv2.VideoCapture(vid_path)\n",
    "\n",
    "    # get original fps\n",
    "    original_fps = vid.get(cv2.CAP_PROP_FPS)\n",
    "\n",
    "    # calculate interval between frames\n",
    "    interval = int(original_fps / fps)\n",
    "\n",
    "    # initialize frame counters\n",
    "    frame_count = 0 # counter for all frames\n",
    "    saved_frame_count = 0 # counter for saved frames\n",
    "\n",
    "    # loop through each frame of the video\n",
    "    while True:\n",
    "        ret, frame = vid.read() # read a frame from the video\n",
    "        if not ret: # break the loop if no frame is returned\n",
    "            break\n",
    "\n",
    "        # check if the current frame should be saved based on the interval\n",
    "        if frame_count % interval == 0:\n",
    "            # create the filename for the saved frame\n",
    "            frame_filename = os.path.join(output_dir, f\"frame_{saved_frame_count:04d}.png\")\n",
    "            # save the frame as a png file\n",
    "            cv2.imwrite(frame_filename, frame)\n",
    "            saved_frame_count += 1\n",
    "        \n",
    "        frame_count += 1\n",
    "    \n",
    "    vid.release()\n",
    "\n",
    "    print(f\"Extracted {saved_frame_count} frames at {fps} FPS.\")\n"
   ]
  },
  {
   "cell_type": "markdown",
   "metadata": {},
   "source": [
    "#### Cool stuff"
   ]
  },
  {
   "cell_type": "code",
   "execution_count": null,
   "metadata": {},
   "outputs": [],
   "source": [
    "# create a facelandmarker instance with the video mode:\n",
    "options = FaceLandmarkerOptions(\n",
    "    base_options = BaseOptions(model_asset_path='./models/face_landmarker.task'),\n",
    "    running_mode=VisionRunningMode.VIDEO,\n",
    "    output_face_blendshapes=True,\n",
    "    output_facial_transformation_matrixes=True,\n",
    "    num_faces=1\n",
    ")\n",
    "\n",
    "with FaceLandmarker.create_from_options(options) as landmarker:\n",
    "\n",
    "    transformation_matrices = []\n",
    "    timestamps = []\n",
    "\n",
    "    #process video frames\n",
    "    while cap.isOpened():\n",
    "        ret, frame = cap.read()\n",
    "        if not ret:\n",
    "            break\n",
    "\n",
    "        # convert the frame to RGB as MediaPipe expects RGB format\n",
    "        frame_rgb = cv2.cvtColor(frame, cv2.COLOR_BGR2RGB)\n",
    "\n",
    "        # create a MediaPipe Image Object\n",
    "        mp_image = mp.Image(image_format=mp.ImageFormat.SRGB, data=frame_rgb)\n",
    "\n",
    "        # get the frame timestamp\n",
    "        frame_timestamp = int(cap.get(cv2.CAP_PROP_POS_MSEC))\n",
    "\n",
    "        result = landmarker.detect_for_video(mp_image, frame_timestamp)\n",
    "\n",
    "\n",
    "        # draw landmarks on the frame\n",
    "        if result.face_landmarks:\n",
    "            for matrix in result.face_landmarks:\n",
    "                transformation_matrices.append(matrix)\n",
    "                timestamps.append(frame_timestamp)\n",
    "                for m in matrix:\n",
    "                    x, y = int(m.x * frame.shape[1]), int(m.y * frame.shape[0])\n",
    "                    cv2.circle(frame, (x,y), 2, (0,255,0), -1)\n",
    "\n",
    "        cv2.imshow('Face Landmarker', frame)\n",
    "\n",
    "        if cv2.waitKey(1) & 0xFF == ord('q'):\n",
    "            break\n",
    "\n",
    "    cap.release()\n",
    "\n",
    "    cv2.destroyAllWindows()\n"
   ]
  }
 ],
 "metadata": {
  "kernelspec": {
   "display_name": "venv",
   "language": "python",
   "name": "python3"
  },
  "language_info": {
   "codemirror_mode": {
    "name": "ipython",
    "version": 3
   },
   "file_extension": ".py",
   "mimetype": "text/x-python",
   "name": "python",
   "nbconvert_exporter": "python",
   "pygments_lexer": "ipython3",
   "version": "3.12.3"
  }
 },
 "nbformat": 4,
 "nbformat_minor": 2
}
