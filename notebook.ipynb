{
 "cells": [
  {
   "cell_type": "markdown",
   "metadata": {},
   "source": [
    "Deepfake Manipulation Detection"
   ]
  },
  {
   "cell_type": "markdown",
   "metadata": {},
   "source": [
    "#### Imports"
   ]
  },
  {
   "cell_type": "code",
   "execution_count": 1,
   "metadata": {},
   "outputs": [],
   "source": [
    "import cv2\n",
    "import os\n",
    "import mediapipe as mp\n",
    "from mediapipe.tasks import python\n",
    "from mediapipe.tasks.python import vision\n",
    "\n"
   ]
  },
  {
   "cell_type": "markdown",
   "metadata": {},
   "source": [
    "#### Video to frames"
   ]
  },
  {
   "cell_type": "code",
   "execution_count": 2,
   "metadata": {},
   "outputs": [],
   "source": [
    "def vid_to_frames(vid_path, output_dir, fps=25):\n",
    "\n",
    "    # create output dir if it doesn't exist\n",
    "    if not os.path.exists(output_dir):\n",
    "        os.makedirs(output_dir)\n",
    "\n",
    "    # capture the video\n",
    "    vid = cv2.VideoCapture(vid_path)\n",
    "\n",
    "    # get original fps\n",
    "    original_fps = vid.get(cv2.CAP_PROP_FPS)\n",
    "\n",
    "    # calculate interval between frames\n",
    "    interval = int(original_fps / fps)\n",
    "\n",
    "    # initialize frame counters\n",
    "    frame_count = 0 # counter for all frames\n",
    "    saved_frame_count = 0 # counter for saved frames\n",
    "\n",
    "    # loop through each frame of the video\n",
    "    while True:\n",
    "        ret, frame = vid.read() # read a frame from the video\n",
    "        if not ret: # break the loop if no frame is returned\n",
    "            break\n",
    "\n",
    "        # check if the current frame should be saved based on the interval\n",
    "        if frame_count % interval == 0:\n",
    "            # create the filename for the saved frame\n",
    "            frame_filename = os.path.join(output_dir, f\"frame_{saved_frame_count:04d}.png\")\n",
    "            # save the frame as a png file\n",
    "            cv2.imwrite(frame_filename, frame)\n",
    "            saved_frame_count += 1\n",
    "        \n",
    "        frame_count += 1\n",
    "    \n",
    "    vid.release()\n",
    "\n",
    "    print(f\"Extracted {saved_frame_count} frames at {fps} FPS.\")\n"
   ]
  },
  {
   "cell_type": "code",
   "execution_count": 11,
   "metadata": {},
   "outputs": [
    {
     "name": "stdout",
     "output_type": "stream",
     "text": [
      "Extracted 117 frames at 25 FPS.\n"
     ]
    }
   ],
   "source": [
    "video_path = \"./test/sa1-video-fadg0.avi\"\n",
    "output_path = \"./output\"\n",
    "vid_to_frames(video_path, output_path)\n"
   ]
  },
  {
   "cell_type": "markdown",
   "metadata": {},
   "source": [
    "#### Frames to video"
   ]
  },
  {
   "cell_type": "code",
   "execution_count": null,
   "metadata": {},
   "outputs": [],
   "source": [
    "# def frame_to_vid(input_dir, output_dir, fps=25):\n"
   ]
  },
  {
   "cell_type": "markdown",
   "metadata": {},
   "source": [
    "#### Face Detection using BlazeFace"
   ]
  },
  {
   "cell_type": "code",
   "execution_count": 6,
   "metadata": {},
   "outputs": [
    {
     "name": "stderr",
     "output_type": "stream",
     "text": [
      "WARNING: All log messages before absl::InitializeLog() is called are written to STDERR\n",
      "I0000 00:00:1717429244.099445 1637111 gl_context_egl.cc:85] Successfully initialized EGL. Major : 1 Minor: 5\n",
      "I0000 00:00:1717429244.103497 2130708 gl_context.cc:357] GL version: 3.2 (OpenGL ES 3.2 Mesa 23.2.1-1ubuntu3.1~22.04.2), renderer: Mesa Intel(R) UHD Graphics 730 (ADL-S GT1)\n",
      "INFO: Created TensorFlow Lite XNNPACK delegate for CPU.\n",
      "W0000 00:00:1717429244.135270 2130713 inference_feedback_manager.cc:114] Feedback manager requires a model with a single signature inference. Disabling support for feedback tensors.\n",
      "/mnt/storage/thesis/deepfake_manipulation_detection/venv/lib/python3.10/site-packages/google/protobuf/symbol_database.py:55: UserWarning: SymbolDatabase.GetPrototype() is deprecated. Please use message_factory.GetMessageClass() instead. SymbolDatabase.GetPrototype() will be removed soon.\n",
      "  warnings.warn('SymbolDatabase.GetPrototype() is deprecated. Please '\n"
     ]
    }
   ],
   "source": [
    "\n",
    "# # STEP 2: Create an FaceDetector object.\n",
    "# base_options = python.BaseOptions(model_asset_path='./models/detector.tflite')\n",
    "# options = vision.FaceDetectorOptions(base_options=base_options)\n",
    "# detector = vision.FaceDetector.create_from_options(options)\n",
    "\n",
    "# # STEP 3: Load the input image.\n",
    "# image = mp.Image.create_from_file('./test/frames/sa1-video-fadg0.avi/frame_0000.png')\n",
    "\n",
    "# # STEP 4: Detect faces in the input image.\n",
    "# detection_result = detector.detect(image)"
   ]
  },
  {
   "cell_type": "markdown",
   "metadata": {},
   "source": []
  },
  {
   "cell_type": "code",
   "execution_count": 7,
   "metadata": {},
   "outputs": [
    {
     "name": "stdout",
     "output_type": "stream",
     "text": [
      "DetectionResult(detections=[Detection(bounding_box=BoundingBox(origin_x=173, origin_y=146, width=172, height=172), categories=[Category(index=0, score=0.9432362914085388, display_name=None, category_name=None)], keypoints=[NormalizedKeypoint(x=0.4428234100341797, y=0.5039209723472595, label='', score=0.0), NormalizedKeypoint(x=0.5787340402603149, y=0.5050773620605469, label='', score=0.0), NormalizedKeypoint(x=0.5128469467163086, y=0.6167497634887695, label='', score=0.0), NormalizedKeypoint(x=0.5107505321502686, y=0.7039387822151184, label='', score=0.0), NormalizedKeypoint(x=0.36317509412765503, y=0.5427756309509277, label='', score=0.0), NormalizedKeypoint(x=0.6494894623756409, y=0.5473453998565674, label='', score=0.0)])])\n"
     ]
    }
   ],
   "source": [
    "print(detection_result)"
   ]
  },
  {
   "cell_type": "code",
   "execution_count": 8,
   "metadata": {},
   "outputs": [],
   "source": [
    "from mediapipe import solutions\n",
    "from mediapipe.framework.formats import landmark_pb2\n",
    "import numpy as np\n",
    "import matplotlib.pyplot as plt\n",
    "\n",
    "\n",
    "def draw_landmarks_on_image(rgb_image, detection_result):\n",
    "  face_landmarks_list = detection_result.face_landmarks\n",
    "  annotated_image = np.copy(rgb_image)\n",
    "\n",
    "  # Loop through the detected faces to visualize.\n",
    "  for idx in range(len(face_landmarks_list)):\n",
    "    face_landmarks = face_landmarks_list[idx]\n",
    "\n",
    "    # Draw the face landmarks.\n",
    "    face_landmarks_proto = landmark_pb2.NormalizedLandmarkList()\n",
    "    face_landmarks_proto.landmark.extend([\n",
    "      landmark_pb2.NormalizedLandmark(x=landmark.x, y=landmark.y, z=landmark.z) for landmark in face_landmarks\n",
    "    ])\n",
    "\n",
    "    solutions.drawing_utils.draw_landmarks(\n",
    "        image=annotated_image,\n",
    "        landmark_list=face_landmarks_proto,\n",
    "        connections=mp.solutions.face_mesh.FACEMESH_TESSELATION,\n",
    "        landmark_drawing_spec=None,\n",
    "        connection_drawing_spec=mp.solutions.drawing_styles\n",
    "        .get_default_face_mesh_tesselation_style())\n",
    "    solutions.drawing_utils.draw_landmarks(\n",
    "        image=annotated_image,\n",
    "        landmark_list=face_landmarks_proto,\n",
    "        connections=mp.solutions.face_mesh.FACEMESH_CONTOURS,\n",
    "        landmark_drawing_spec=None,\n",
    "        connection_drawing_spec=mp.solutions.drawing_styles\n",
    "        .get_default_face_mesh_contours_style())\n",
    "    solutions.drawing_utils.draw_landmarks(\n",
    "        image=annotated_image,\n",
    "        landmark_list=face_landmarks_proto,\n",
    "        connections=mp.solutions.face_mesh.FACEMESH_IRISES,\n",
    "          landmark_drawing_spec=None,\n",
    "          connection_drawing_spec=mp.solutions.drawing_styles\n",
    "          .get_default_face_mesh_iris_connections_style())\n",
    "\n",
    "  return annotated_image\n",
    "\n",
    "def plot_face_blendshapes_bar_graph(face_blendshapes):\n",
    "  # Extract the face blendshapes category names and scores.\n",
    "  face_blendshapes_names = [face_blendshapes_category.category_name for face_blendshapes_category in face_blendshapes]\n",
    "  face_blendshapes_scores = [face_blendshapes_category.score for face_blendshapes_category in face_blendshapes]\n",
    "  # The blendshapes are ordered in decreasing score value.\n",
    "  face_blendshapes_ranks = range(len(face_blendshapes_names))\n",
    "\n",
    "  fig, ax = plt.subplots(figsize=(12, 12))\n",
    "  bar = ax.barh(face_blendshapes_ranks, face_blendshapes_scores, label=[str(x) for x in face_blendshapes_ranks])\n",
    "  ax.set_yticks(face_blendshapes_ranks, face_blendshapes_names)\n",
    "  ax.invert_yaxis()\n",
    "\n",
    "  # Label each bar with values\n",
    "  for score, patch in zip(face_blendshapes_scores, bar.patches):\n",
    "    plt.text(patch.get_x() + patch.get_width(), patch.get_y(), f\"{score:.4f}\", va=\"top\")\n",
    "\n",
    "  ax.set_xlabel('Score')\n",
    "  ax.set_title(\"Face Blendshapes\")\n",
    "  plt.tight_layout()\n",
    "  plt.show()"
   ]
  },
  {
   "cell_type": "markdown",
   "metadata": {},
   "source": [
    "### Extract Facial Landmarks"
   ]
  },
  {
   "cell_type": "markdown",
   "metadata": {},
   "source": [
    "#### Create FaceLandmarker object."
   ]
  },
  {
   "cell_type": "code",
   "execution_count": 4,
   "metadata": {},
   "outputs": [
    {
     "name": "stderr",
     "output_type": "stream",
     "text": [
      "I0000 00:00:1717577652.614964 4078610 gl_context_egl.cc:85] Successfully initialized EGL. Major : 1 Minor: 5\n",
      "I0000 00:00:1717577652.616016 4101307 gl_context.cc:357] GL version: 3.2 (OpenGL ES 3.2 Mesa 23.2.1-1ubuntu3.1~22.04.2), renderer: Mesa Intel(R) UHD Graphics 730 (ADL-S GT1)\n",
      "W0000 00:00:1717577652.616340 4078610 face_landmarker_graph.cc:174] Sets FaceBlendshapesGraph acceleration to xnnpack by default.\n",
      "W0000 00:00:1717577652.619832 4101312 inference_feedback_manager.cc:114] Feedback manager requires a model with a single signature inference. Disabling support for feedback tensors.\n",
      "W0000 00:00:1717577652.627681 4101311 inference_feedback_manager.cc:114] Feedback manager requires a model with a single signature inference. Disabling support for feedback tensors.\n"
     ]
    }
   ],
   "source": [
    "base_options = python.BaseOptions(model_asset_path='./models/face_landmarker.task')\n",
    "\n",
    "options = vision.FaceLandmarkerOptions(base_options=base_options,\n",
    "                                       output_face_blendshapes=True,\n",
    "                                       output_facial_transformation_matrixes=True,\n",
    "                                       num_faces=1)\n",
    "\n",
    "detector = vision.FaceLandmarker.create_from_options(options)"
   ]
  },
  {
   "cell_type": "markdown",
   "metadata": {},
   "source": [
    "#### Load input image."
   ]
  },
  {
   "cell_type": "code",
   "execution_count": 13,
   "metadata": {},
   "outputs": [],
   "source": [
    "image = mp.Image.create_from_file('./download.png')"
   ]
  },
  {
   "cell_type": "markdown",
   "metadata": {},
   "source": [
    "#### Inference."
   ]
  },
  {
   "cell_type": "code",
   "execution_count": 10,
   "metadata": {},
   "outputs": [
    {
     "name": "stderr",
     "output_type": "stream",
     "text": [
      "/mnt/storage/thesis/deepfake_manipulation_detection/venv/lib/python3.10/site-packages/google/protobuf/symbol_database.py:55: UserWarning: SymbolDatabase.GetPrototype() is deprecated. Please use message_factory.GetMessageClass() instead. SymbolDatabase.GetPrototype() will be removed soon.\n",
      "  warnings.warn('SymbolDatabase.GetPrototype() is deprecated. Please '\n"
     ]
    }
   ],
   "source": [
    "detection_result = detector.detect(image)"
   ]
  },
  {
   "cell_type": "markdown",
   "metadata": {},
   "source": [
    "#### Extract Facial Landmarks from Video. "
   ]
  },
  {
   "cell_type": "code",
   "execution_count": 14,
   "metadata": {},
   "outputs": [],
   "source": [
    "BaseOptions = mp.tasks.BaseOptions\n",
    "FaceLandmarker = mp.tasks.vision.FaceLandmarker\n",
    "FaceLandmarkerOptions = mp.tasks.vision.FaceLandmarkerOptions\n",
    "VisionRunningMode = mp.tasks.vision.RunningMode"
   ]
  },
  {
   "cell_type": "code",
   "execution_count": 21,
   "metadata": {},
   "outputs": [
    {
     "name": "stderr",
     "output_type": "stream",
     "text": [
      "I0000 00:00:1717611449.709235 2173355 gl_context_egl.cc:85] Successfully initialized EGL. Major : 1 Minor: 5\n",
      "I0000 00:00:1717611449.710810 2267577 gl_context.cc:357] GL version: 3.2 (OpenGL ES 3.2 Mesa 23.2.1-1ubuntu3.1~22.04.2), renderer: Mesa Intel(R) UHD Graphics 730 (ADL-S GT1)\n",
      "W0000 00:00:1717611449.711157 2173355 face_landmarker_graph.cc:174] Sets FaceBlendshapesGraph acceleration to xnnpack by default.\n",
      "W0000 00:00:1717611449.714229 2267582 inference_feedback_manager.cc:114] Feedback manager requires a model with a single signature inference. Disabling support for feedback tensors.\n",
      "W0000 00:00:1717611449.718903 2267584 inference_feedback_manager.cc:114] Feedback manager requires a model with a single signature inference. Disabling support for feedback tensors.\n"
     ]
    },
    {
     "ename": "ValueError",
     "evalue": "Please provide 'image_format' with 'data'.",
     "output_type": "error",
     "traceback": [
      "\u001b[0;31m---------------------------------------------------------------------------\u001b[0m",
      "\u001b[0;31mValueError\u001b[0m                                Traceback (most recent call last)",
      "Cell \u001b[0;32mIn[21], line 11\u001b[0m\n\u001b[1;32m      2\u001b[0m options \u001b[38;5;241m=\u001b[39m FaceLandmarkerOptions(\n\u001b[1;32m      3\u001b[0m     base_options \u001b[38;5;241m=\u001b[39m BaseOptions(model_asset_path\u001b[38;5;241m=\u001b[39m\u001b[38;5;124m'\u001b[39m\u001b[38;5;124m./models/face_landmarker.task\u001b[39m\u001b[38;5;124m'\u001b[39m),\n\u001b[1;32m      4\u001b[0m     running_mode\u001b[38;5;241m=\u001b[39mVisionRunningMode\u001b[38;5;241m.\u001b[39mVIDEO,\n\u001b[0;32m   (...)\u001b[0m\n\u001b[1;32m      7\u001b[0m     num_faces\u001b[38;5;241m=\u001b[39m\u001b[38;5;241m1\u001b[39m\n\u001b[1;32m      8\u001b[0m )\n\u001b[1;32m     10\u001b[0m \u001b[38;5;28;01mwith\u001b[39;00m FaceLandmarker\u001b[38;5;241m.\u001b[39mcreate_from_options(options) \u001b[38;5;28;01mas\u001b[39;00m landmarker:\n\u001b[0;32m---> 11\u001b[0m     result1 \u001b[38;5;241m=\u001b[39m \u001b[43mlandmarker\u001b[49m\u001b[38;5;241;43m.\u001b[39;49m\u001b[43mdetect\u001b[49m\u001b[43m(\u001b[49m\u001b[38;5;124;43m\"\u001b[39;49m\u001b[38;5;124;43m./data/vidtimit/deepfake/videos/sa1-video-fadg0.avi\u001b[39;49m\u001b[38;5;124;43m\"\u001b[39;49m\u001b[43m)\u001b[49m\n",
      "File \u001b[0;32m/mnt/storage/thesis/deepfake_manipulation_detection/venv/lib/python3.10/site-packages/mediapipe/tasks/python/vision/face_landmarker.py:3142\u001b[0m, in \u001b[0;36mFaceLandmarker.detect\u001b[0;34m(self, image, image_processing_options)\u001b[0m\n\u001b[1;32m   3118\u001b[0m \u001b[38;5;250m\u001b[39m\u001b[38;5;124;03m\"\"\"Performs face landmarks detection on the given image.\u001b[39;00m\n\u001b[1;32m   3119\u001b[0m \n\u001b[1;32m   3120\u001b[0m \u001b[38;5;124;03mOnly use this method when the FaceLandmarker is created with the image\u001b[39;00m\n\u001b[0;32m   (...)\u001b[0m\n\u001b[1;32m   3136\u001b[0m \u001b[38;5;124;03m  RuntimeError: If face landmarker detection failed to run.\u001b[39;00m\n\u001b[1;32m   3137\u001b[0m \u001b[38;5;124;03m\"\"\"\u001b[39;00m\n\u001b[1;32m   3138\u001b[0m normalized_rect \u001b[38;5;241m=\u001b[39m \u001b[38;5;28mself\u001b[39m\u001b[38;5;241m.\u001b[39mconvert_to_normalized_rect(\n\u001b[1;32m   3139\u001b[0m     image_processing_options, image, roi_allowed\u001b[38;5;241m=\u001b[39m\u001b[38;5;28;01mFalse\u001b[39;00m\n\u001b[1;32m   3140\u001b[0m )\n\u001b[1;32m   3141\u001b[0m output_packets \u001b[38;5;241m=\u001b[39m \u001b[38;5;28mself\u001b[39m\u001b[38;5;241m.\u001b[39m_process_image_data({\n\u001b[0;32m-> 3142\u001b[0m     _IMAGE_IN_STREAM_NAME: \u001b[43mpacket_creator\u001b[49m\u001b[38;5;241;43m.\u001b[39;49m\u001b[43mcreate_image\u001b[49m\u001b[43m(\u001b[49m\u001b[43mimage\u001b[49m\u001b[43m)\u001b[49m,\n\u001b[1;32m   3143\u001b[0m     _NORM_RECT_STREAM_NAME: packet_creator\u001b[38;5;241m.\u001b[39mcreate_proto(\n\u001b[1;32m   3144\u001b[0m         normalized_rect\u001b[38;5;241m.\u001b[39mto_pb2()\n\u001b[1;32m   3145\u001b[0m     ),\n\u001b[1;32m   3146\u001b[0m })\n\u001b[1;32m   3148\u001b[0m \u001b[38;5;28;01mif\u001b[39;00m output_packets[_NORM_LANDMARKS_STREAM_NAME]\u001b[38;5;241m.\u001b[39mis_empty():\n\u001b[1;32m   3149\u001b[0m   \u001b[38;5;28;01mreturn\u001b[39;00m FaceLandmarkerResult([], [], [])\n",
      "File \u001b[0;32m/mnt/storage/thesis/deepfake_manipulation_detection/venv/lib/python3.10/site-packages/mediapipe/python/packet_creator.py:229\u001b[0m, in \u001b[0;36mcreate_image\u001b[0;34m(data, image_format, copy)\u001b[0m\n\u001b[1;32m    226\u001b[0m   \u001b[38;5;66;03m# pylint:enable=protected-access\u001b[39;00m\n\u001b[1;32m    227\u001b[0m \u001b[38;5;28;01melse\u001b[39;00m:\n\u001b[1;32m    228\u001b[0m   \u001b[38;5;28;01mif\u001b[39;00m image_format \u001b[38;5;129;01mis\u001b[39;00m \u001b[38;5;28;01mNone\u001b[39;00m:\n\u001b[0;32m--> 229\u001b[0m     \u001b[38;5;28;01mraise\u001b[39;00m \u001b[38;5;167;01mValueError\u001b[39;00m(\u001b[38;5;124m'\u001b[39m\u001b[38;5;124mPlease provide \u001b[39m\u001b[38;5;130;01m\\'\u001b[39;00m\u001b[38;5;124mimage_format\u001b[39m\u001b[38;5;130;01m\\'\u001b[39;00m\u001b[38;5;124m with \u001b[39m\u001b[38;5;130;01m\\'\u001b[39;00m\u001b[38;5;124mdata\u001b[39m\u001b[38;5;130;01m\\'\u001b[39;00m\u001b[38;5;124m.\u001b[39m\u001b[38;5;124m'\u001b[39m)\n\u001b[1;32m    230\u001b[0m   \u001b[38;5;66;03m# If copy arg is not set, copying the data if it's immutable. Otherwise,\u001b[39;00m\n\u001b[1;32m    231\u001b[0m   \u001b[38;5;66;03m# take a reference of the immutable data to avoid data copy.\u001b[39;00m\n\u001b[1;32m    232\u001b[0m   \u001b[38;5;28;01mif\u001b[39;00m copy \u001b[38;5;129;01mis\u001b[39;00m \u001b[38;5;28;01mNone\u001b[39;00m:\n",
      "\u001b[0;31mValueError\u001b[0m: Please provide 'image_format' with 'data'."
     ]
    }
   ],
   "source": [
    "# create a facelandmarker instance with the video mode:\n",
    "options = FaceLandmarkerOptions(\n",
    "    base_options = BaseOptions(model_asset_path='./models/face_landmarker.task'),\n",
    "    running_mode=VisionRunningMode.VIDEO,\n",
    "    output_face_blendshapes=True,\n",
    "    output_facial_transformation_matrixes=True,\n",
    "    num_faces=1\n",
    ")\n",
    "\n",
    "with FaceLandmarker.create_from_options(options) as landmarker:\n",
    "    result1 = landmarker.detect(\"./data/vidtimit/deepfake/videos/sa1-video-fadg0.avi\")\n",
    "\n",
    "\n"
   ]
  },
  {
   "cell_type": "code",
   "execution_count": 20,
   "metadata": {},
   "outputs": [
    {
     "name": "stdout",
     "output_type": "stream",
     "text": [
      "[array([[ 9.92205501e-01, -6.04903474e-02,  1.08946197e-01,\n",
      "         1.18711746e+00],\n",
      "       [ 9.10740122e-02,  9.48733926e-01, -3.02671373e-01,\n",
      "         2.23701134e+01],\n",
      "       [-8.50522369e-02,  3.10234487e-01,  9.46847558e-01,\n",
      "        -6.80049210e+01],\n",
      "       [ 0.00000000e+00,  0.00000000e+00,  0.00000000e+00,\n",
      "         1.00000000e+00]])]\n"
     ]
    }
   ],
   "source": [
    "print(result1.facial_transformation_matrixes)"
   ]
  },
  {
   "cell_type": "markdown",
   "metadata": {},
   "source": []
  }
 ],
 "metadata": {
  "kernelspec": {
   "display_name": "venv",
   "language": "python",
   "name": "python3"
  },
  "language_info": {
   "codemirror_mode": {
    "name": "ipython",
    "version": 3
   },
   "file_extension": ".py",
   "mimetype": "text/x-python",
   "name": "python",
   "nbconvert_exporter": "python",
   "pygments_lexer": "ipython3",
   "version": "3.10.12"
  }
 },
 "nbformat": 4,
 "nbformat_minor": 2
}
