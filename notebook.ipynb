{
 "cells": [
  {
   "cell_type": "code",
   "execution_count": 3,
   "metadata": {},
   "outputs": [],
   "source": [
    "import cv2\n",
    "import os"
   ]
  },
  {
   "cell_type": "code",
   "execution_count": 9,
   "metadata": {},
   "outputs": [],
   "source": [
    "def vid_to_frames(vid_path, output_dir, fps=25):\n",
    "\n",
    "    # create output dir if it doesn't exist\n",
    "    if not os.path.exists(output_dir):\n",
    "        os.makedirs(output_dir)\n",
    "\n",
    "    # capture the video\n",
    "    vid = cv2.VideoCapture(vid_path)\n",
    "\n",
    "    # get original fps\n",
    "    original_fps = vid.get(cv2.CAP_PROP_FPS)\n",
    "\n",
    "    # calculate interval between frames\n",
    "    interval = int(original_fps / fps)\n",
    "\n",
    "    # initialize frame counters\n",
    "    frame_count = 0 # counter for all frames\n",
    "    saved_frame_count = 0 # counter for saved frames\n",
    "\n",
    "    # loop through each frame of the video\n",
    "    while True:\n",
    "        ret, frame = vid.read() # read a frame from the video\n",
    "        if not ret: # break the loop if no frame is returned\n",
    "            break\n",
    "\n",
    "        # check if the current frame should be saved based on the interval\n",
    "        if frame_count % interval == 0:\n",
    "            # create the filename for the saved frame\n",
    "            frame_filename = os.path.join(output_dir, f\"frame_{saved_frame_count:04d}.png\")\n",
    "            # save the frame as a png file\n",
    "            cv2.imwrite(frame_filename, frame)\n",
    "            saved_frame_count += 1\n",
    "        \n",
    "        frame_count += 1\n",
    "    \n",
    "    vid.release()\n",
    "\n",
    "    print(f\"Extracted {saved_frame_count} frames at {fps} FPS.\")\n"
   ]
  },
  {
   "cell_type": "code",
   "execution_count": 11,
   "metadata": {},
   "outputs": [
    {
     "name": "stdout",
     "output_type": "stream",
     "text": [
      "Extracted 117 frames at 25 FPS.\n"
     ]
    }
   ],
   "source": [
    "video_path = \"./te  st/sa1-video-fadg0.avi\"\n",
    "output_path = \"./output\"\n",
    "vid_to_frames(video_path, output_path)\n"
   ]
  },
  {
   "cell_type": "code",
   "execution_count": null,
   "metadata": {},
   "outputs": [],
   "source": []
  }
 ],
 "metadata": {
  "kernelspec": {
   "display_name": "venv",
   "language": "python",
   "name": "python3"
  },
  "language_info": {
   "codemirror_mode": {
    "name": "ipython",
    "version": 3
   },
   "file_extension": ".py",
   "mimetype": "text/x-python",
   "name": "python",
   "nbconvert_exporter": "python",
   "pygments_lexer": "ipython3",
   "version": "3.10.12"
  }
 },
 "nbformat": 4,
 "nbformat_minor": 2
}
